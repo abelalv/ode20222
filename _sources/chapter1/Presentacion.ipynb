{
 "cells": [
  {
   "cell_type": "markdown",
   "id": "8773eb52",
   "metadata": {},
   "source": [
    "# Ecuaciones diferenciales \n",
    "\n",
    "La asignatura de Ecuaciones Diferenciales está ubicada en el quinto semestre   dentro del Núcleo de Formación Fundamental, de las carreras de Ingeniería Civil, Electrónica, Industrial, así como de la carrera de Matemáticas Aplicadas, este núcleo fundamental comprende las asignaturas que proporcionan los conocimientos en ciencias naturales, matemáticas y las ciencias básicas de la ingeniería, que permitirán al estudiante formular y resolver problemas inherentes en sus carreras. La importancia de esta asignatura estriba en el hecho de que las ecuaciones diferenciales son la expresión matemática de aquéllas leyes fundamentales de la naturaleza que son formuladas en términos de razones de cambio de cantidades variables. Estas leyes surgen en diversos campos de aplicación; por ejemplo, en oscilaciones no lineales, movimientos newtonianos y no newtonianos, difusión de calor, elasticidad, estudio de fluidos y muchos otros.\n",
    "\n",
    "El análisis de las soluciones tanto teóricas como numéricas de las ecuaciones diferenciales es fundamental para la investigación y comprensión de los fenómenos naturales o teóricos que representan; tanto el estudio de las propiedades generales de las ecuaciones, que nos proporciona información valiosa que se puede aplicar en cada caso particular; como su complemento, la resolución numérica, que permite construir soluciones de una ecuación,  paso a paso en la vecindad de un punto y con cierto margen de error. Dado el tiempo limitado de estudio de esta asignatura, el enfoque de las ecuaciones diferenciales será desde su parte teórica con aplicaciones a problemas que emergen en ciertos fenómenos naturales. Esto permitirá crear un sustento teórico que permita al estudiante analizar y comprender los resultados numéricos de problemas que involucran formulaciones diferenciales, bien sea en cursos paralelos o posteriores.\n"
   ]
  },
  {
   "cell_type": "markdown",
   "id": "34191665",
   "metadata": {},
   "source": [
    "## Objetivos genenerales \n",
    "\n",
    "* Al terminar el curso el alumno será capaz de comprender el papel que juegan las ecuaciones diferenciales para modelar una gran cantidad de fenómenos que se presentan en la naturaleza. También desarrollará habilidades para utilizar las técnicas y procedimientos de las ecuaciones diferenciales para la modelación y resolución de problemas, utilizando los registros analítico o simbólico, gráfico o geométrico.\n",
    "\n",
    "* Formular problemas en el contexto matemático y en otras disciplinas (Ingeniería, economía, ciencias sociales) que involucren un S.E.D.O. (Sistemas de ecuaciones Diferenciales Ordinarias) Se emplearán los registros analíticos, gráficos para obtener, analizar y resolver dicho S.E.D.O.\n",
    "\n",
    "* Resolver ecuaciones y sistemas de ecuaciones diferenciales ordinarias que involucren condiciones iniciales utilizando transformadas integrales. \n",
    "\n",
    "## Objetivos específicos \n",
    "* Construir modelos sencillos de problemas específicos que se presentan en otras disciplinas a través de ecuaciones diferenciales de primer orden; resolver e interpretar las soluciones en el contexto del problema.\n",
    "* Comprender que las ecuaciones diferenciales permiten modelar diversos problemas de otras disciplinas.\n",
    "* Expresar de forma escrita, utilizando dos tipos de registro (analítico y gráfico) la solución o familias de soluciones de un S.E.D.O.\n",
    "* Reconocer problemas relacionados con las ciencias físicas, la ingeniería, la economía y las ciencias sociales, que puedan modelarse por medio de un S.E.D.O.\n",
    "* Calcular la Transformada de Laplace de funciones básicas utilizando la definición. \n",
    "* Aplicar propiedades de la Transformada de Laplace (linealidad, teoremas de traslación, transformadas de derivadas, Teorema de Convolución) para calcular la transformadas de uso frecuente en la obtención de la solución de ecuaciones diferenciales. \n",
    "\n",
    "## Metodología \n",
    "En cada del curso sesión de clase (encuentro sincrónico mediante una plataforma virtual) se espera que los estudiantes participen activamente en el proceso de enseñanza - aprendizaje. (Los estudiantes deben estudiar el material antes de cada clase presente en el portal del curso sobre la plataforma de Brigespace). El profesor dará explicaciones formales de los temas, propondrá ejemplos y ejercicios que ayuden al estudiante a apropiarse de los conceptos, procedimientos y técnicas de los temas a estudiar. Bajo esta modalidad, los estudiantes deben realizar gran parte del trabajo por fuera de los encuentros sincrónicos. La clase se convierte en un espacio de confrontación, discusión e institucionalización de todas aquellas reflexiones y conclusiones de los estudiantes que se desarrollarán en el curso. \n",
    "\n",
    "\n"
   ]
  },
  {
   "cell_type": "markdown",
   "id": "fb5a9533",
   "metadata": {},
   "source": [
    "## Unidades temáticas \n",
    "\n",
    "* Introducción a las ecuaciones diferenciales ordinarias (5 semanas)\n",
    "    - Definiciones, notación y primeros ejemplos de Ecuaciones Diferenciales ordinarias. Forma normal de una ecuación diferencial ordinaria. Concepto de Solución de una ecuación diferencial. Interpretación geométrica. Campo de direcciones. Problema de Cauchy.\n",
    "    + Métodos de Integración. Ecuaciones de variables separables (ecuaciones autónomas) Estabilidad de equilibrios. (Criterio de estabilidad para el caso escalar) Diagramas de Fase. Modelo de Malthus y parámetro de bifurcación. \n",
    "    + Ecuación Lineal Homogénea. Ecuación lineal Completa. Fórmula de Variación de Constantes (versión 1 dimensional). Ejemplos y aplicaciones (Circuitos RL, RC, Modelos de compartimientos) [Modelos con parámetros]\n",
    "    + Cambios de variable. (ejemplos y ejercicios de las ecuaciones homogéneas, ecuaciones tipo Bernoulli). Aplicaciones a Física, Biología, y Economía. [Modelos con parámetros]\n",
    "\n",
    "\n",
    "* Sistemas de ecuaciones ordinarias (5 Semanas)\n",
    "    + Sistemas de lineales de la forma $\\dot{X}(t)=A(t)X+B(t)$, con $A:I\\subset \\mathsf{R}\\to M_{m\\times m }(\\mathsf{R})$.\n",
    "    + Problema de Cauchy. Matriz Fundamental, propiedades y Fórmula de Jacobi. Reducción de Orden. (Método del Wronskiano). Aplicación a ecuaciones lineales del orden 2. Presentación del Teorema de existencia y Unicidad. Fórmula de Variación de constantes. Ejemplos en los casos .\n",
    "    + Sistema de ecuaciones diferenciales ordinarias con coeficientes constantes $(A(t)=A\\in M_{2\\times 2}(\\mathsf{R}))$ Matriz exponencial $(e^{B},\\in M_{2\\times 2}(\\mathsf{R}))$. Cálculo de la matriz exponencial. Casos especiales para matrices diagonales y nilpotentes\n",
    "    + Ecuaciones diferenciales de Orden superior. Definición del operador diferencial lineal $L$, $L(x)=\\tilde{x}+a_1\\dot{x}+a_0$ . Análisis de la ecuación $L(x)=b(t)$.  \n",
    "* Teoría de estabilidad y sistemas lineales autónomos (4 Semanas)\n",
    "    + Concepto de estabilidad del equilibrio en sistemas $\\dot{Y}=AY$ , con $A:I\\subset \\mathsf{R}\\to M_{2\\times 2 }(\\mathsf{R})$, y $Y:I\\subset \\mathsf{R}\\to \\mathsf{R}^2 $ . Clasificación del tipo de estabilidad del equilibrio. Diagrama de fases para el sistema canónico asociado a $\\dot{X}=AX+B(t)$\n",
    "    + Sistemas Autónomos No Lineales. Motivación y ejemplos. Osciladores no lineales. Sistemas Conservativos.\n",
    "    + Aproximación lineal. Análisis de estabilidad de equilibrios por el método de aproximación. \n",
    "    + Modelar y resolver problemas de aplicación clásicos que involucren Sistemas de Ecuaciones Diferenciales de orden 2 y 3. Problemas en física, problema de mezclas, problemas en Biología, Ingeniería. [Modelos con uno o más parámetros]\n",
    "\n",
    "* Transformada de Laplace (2 Semanas)\n",
    "    + Introducción a las transformadas integrales. Primeros ejemplos. Definición de transformada de Laplace. Propiedades fundamentales: Linealidad, Teorema de traslación, Teorema de Convolución. Transformada de derivadas.\n",
    "    + Resolución de ecuaciones diferenciales y sistemas de ecuaciones lineales con coeficientes constantes utilizando la transformada de Laplace. (Sistemas discontinuos) [Modelos con parámetros]"
   ]
  },
  {
   "cell_type": "markdown",
   "id": "852fad76",
   "metadata": {},
   "source": [
    "## Actividades de evaluación \n",
    "La evaluación será desde el aspecto sumativo, se realizarán cuatro exámenes parciales de conocimientos teóricos [20% c/u]. Con los exámenes parciales se espera \"medir\" que tanto han asimilado de los temas abordados a lo largo de las semanas que lo anteceden.  A continuación, se muestran los porcentajes asignados a cada uno de los ítems a considerar en la evaluación del curso.\n",
    "\n",
    "| Actividad | Porcentaje | Fecha |\n",
    "| --- | --- | --- |\n",
    "| Entregable 1 | 12% | 25 de Febrero |\n",
    "| Evaluación individual 1 | 20% |  25 de Febrero|\n",
    "| Evaluación individual 2 | 20% | 8 de Abril |\n",
    "| Entregable 3 | 12% | 13 de Mayo |\n",
    "| Evaluación individual 3 | 20% | 13 de Mayo |\n",
    "| Taller Final |16%||"
   ]
  },
  {
   "cell_type": "markdown",
   "id": "e759813c",
   "metadata": {},
   "source": [
    "# Bibliografía \n",
    "\n",
    "* [Blanchard Paul, Devaney Robert L. y Hall Glen R. Ecuaciones diferenciales Thomson editores 1999.](https://fdocuments.in/document/ecuaciones-diferenciales-paul-blanchard-robert-l-devaney-glen-r-hall-558463671d8ca.html)\n",
    "* Boyce-DiPrima. Ecuaciones Diferenciales y Problemas con valores en la frontera. Cuarta edición. Editorial Limusa. México, 2002."
   ]
  },
  {
   "cell_type": "code",
   "execution_count": null,
   "id": "f25f6e65",
   "metadata": {},
   "outputs": [],
   "source": []
  }
 ],
 "metadata": {
  "author": "x",
  "hide_input": false,
  "kernelspec": {
   "display_name": "Python 3 (ipykernel)",
   "language": "python",
   "name": "python3"
  },
  "language_info": {
   "codemirror_mode": {
    "name": "ipython",
    "version": 3
   },
   "file_extension": ".py",
   "mimetype": "text/x-python",
   "name": "python",
   "nbconvert_exporter": "python",
   "pygments_lexer": "ipython3",
   "version": "3.9.7"
  },
  "latex_envs": {
   "LaTeX_envs_menu_present": true,
   "autoclose": false,
   "autocomplete": true,
   "bibliofile": "biblio.bib",
   "cite_by": "apalike",
   "current_citInitial": 1,
   "eqLabelWithNumbers": true,
   "eqNumInitial": 1,
   "hotkeys": {
    "equation": "Ctrl-E",
    "itemize": "Ctrl-I"
   },
   "labels_anchors": false,
   "latex_user_defs": false,
   "report_style_numbering": false,
   "user_envs_cfg": false
  },
  "varInspector": {
   "cols": {
    "lenName": 16,
    "lenType": 16,
    "lenVar": 40
   },
   "kernels_config": {
    "python": {
     "delete_cmd_postfix": "",
     "delete_cmd_prefix": "del ",
     "library": "var_list.py",
     "varRefreshCmd": "print(var_dic_list())"
    },
    "r": {
     "delete_cmd_postfix": ") ",
     "delete_cmd_prefix": "rm(",
     "library": "var_list.r",
     "varRefreshCmd": "cat(var_dic_list()) "
    }
   },
   "types_to_exclude": [
    "module",
    "function",
    "builtin_function_or_method",
    "instance",
    "_Feature"
   ],
   "window_display": false
  }
 },
 "nbformat": 4,
 "nbformat_minor": 5
}
