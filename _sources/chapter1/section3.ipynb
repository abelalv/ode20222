{
 "cells": [
  {
   "cell_type": "markdown",
   "id": "655b89f0",
   "metadata": {},
   "source": [
    "# Solución lineal de primer orden\n",
    "### Solución lineal de primer orden, homogenea\n",
    "\n",
    "Una ecuación diferenacial de primer orden es de la forma \n",
    "\n",
    "$$a(t)y'+b(t)y=c(t)$$\n",
    "si $a(t)\\ne 0$ enonces podemos transformar la ecuación de la forma \n",
    "\n",
    "$$y'(t)+P(t)y(t)=Q(t)$$\n",
    "donde $P(t)=\\frac{b(t)}{a(t)}$ y $Q(t)=\\frac{c(t)}{a(t)}$.\n",
    "\n",
    "Note que si $Q(t)=0$, la ecuación anterior se torna de la forma \n",
    "$$y'(t)+P(t)y(t)=0$$\n",
    "\n",
    "podemos buscar un factor de integración de la forma \n",
    "\n",
    "$$\\mu(t)=e^{\\int P(t)d\\ t},$$\n",
    "note que \n",
    "\n",
    "$$\\frac{d}{dt}\\Big(y(t)e^{\\int P(t)d\\ t}\\Big)=y'e^{\\int P(t)d\\ t}+y(t)P(t)e^{\\int P(t)d\\ t}$$\n",
    "\n",
    "al multiplica a $\\rho(t)$ por la ecuación original tenemos \n",
    "\n",
    "\n",
    "$$y'(t)\\rho(t)+\\rho(t)P(t)y(t)=0,$$\n",
    "$$y'(t)e^{\\int P(t)d\\ t}+e^{\\int P(t)d\\ t}P(t)y(t)=0,$$\n",
    "$$\\frac{d}{dt}\\Big(y(t)e^{\\int P(t)d\\ t}\\Big)=0,$$\n",
    "$$\\int\\frac{d}{dt}\\Big(y(t)e^{\\int P(\\tau)d\\tau}\\Big)d t=C,$$\n",
    "\n",
    "de esta forma tenemos que \n",
    "\n",
    "$$y(t)=Ce^{-\\int P(\\tau)d\\tau}$$\n"
   ]
  },
  {
   "cell_type": "markdown",
   "id": "41ad144d",
   "metadata": {},
   "source": [
    "### Ejemplo \n",
    "Resolver la ecuación \n",
    "\n",
    "$$ (x^2-9)\\frac{dy}{dx}+xy=0$$\n",
    "\n",
    "Suponiendo que $x^2-9\\neq 0$, y  dividiendo por $x^2-9$ tenemos   que\n",
    "\n",
    "$$\\frac{dy}{dx}+\\frac{x}{x^2-9}y=0$$\n",
    "\n",
    "Asi el factor de integración esta determinado por \n",
    "\n",
    "$$e^{\\int\\frac{x}{x^2-9}dx}=e^{\\frac{1}{2}ln|x^2-9|}=\\sqrt{x^2-9}$$\n",
    "\n",
    " De esta forma tenemos \n",
    "\n",
    " $$\\frac{d}{dx}\\sqrt{x^2-9}y=0\\text{ y al integrar }\\sqrt{x^2-9}y=c$$\n",
    "\n",
    " Así para $x\\in(-\\infty,-3)\\cup (3,\\infty)$ la solución general es \n",
    "\n",
    " $$y=\\frac{c}{\\sqrt{x^2-9}}$$"
   ]
  },
  {
   "cell_type": "markdown",
   "id": "05b64290",
   "metadata": {},
   "source": [
    "### Solución lineal de primer orden, general\n",
    "Ahora en forma general para resolver una ecuación linela tenemos \n",
    "\n",
    "\n",
    "\n",
    "a. Escribamos la ecuación en la forma canónica\n",
    "\n",
    "$$\\frac{dy}{dt}+P(t)y=Q(t).$$\n",
    "\n",
    "b. Cálculemos el factor integrnate \n",
    "\n",
    " $$\\mu(t)=exp\\Big(\\int P(t) dt\\Big)$$\n",
    "\n",
    "c. Multipliquemos a la forma canónica por $\\mu(t)$, recordanto que el lado izquierdo es precisamente $\\frac{d}{dt}[\\mu(t)y(t)]$, obtenemos \n",
    "\n",
    "$$\\mu(x)\\frac{dy}{dt}+P(t)\\mu(t)y(t)=\\mu(t)Q(t).$$\n",
    "\n",
    "$$\\frac{d}{dt}\\Big(\\mu(t)y\\Big)=\\mu(t)Q(t).$$\n",
    "\n",
    "d. Integre la última ecuación y determine $y$ dividiendo entre $\\mu(t)$ para ontener\n",
    "\n",
    "$$y(t)=\\frac{1}{\\mu(t)}\\Big(\\int\\mu(t)Q(t)dt+C\\Big).$$\n"
   ]
  },
  {
   "cell_type": "markdown",
   "id": "7374c87d",
   "metadata": {},
   "source": [
    "### Ejemplo \n",
    "Resuelva el problema de valor inicial $\\frac{dy}{dt}+y=t$ con $y(0)=4$\n",
    "\n",
    "note que en la forma general de la ecuación $P(t)=1$ y $Q(t)=t$, así el factor de integración es \n",
    "\n",
    "$$\\mu=e^{\\int P(t)dt}=e^t,$$\n",
    "de esta forma \n",
    "\n",
    "$$\\frac{d}{dt}[e^ty]=e^tt,$$\n",
    "Integrando obtenemos que\n",
    "\n",
    "$$\\int e^tt \\ dt=te^t-e^t+c,$$\n",
    "\n",
    " así\n",
    "\n",
    " $$y=t-1+ce^{-t}.$$\n",
    "\n",
    " Como $y(0)=4=-1+c$ entonces $c=5$, así la solcuión de la ecuación es \n",
    "\n",
    " $$y=t-1+5e^{-t}\\text{ para }t\\in\\Re.$$"
   ]
  },
  {
   "cell_type": "markdown",
   "id": "af8fa164",
   "metadata": {},
   "source": [
    "### Ejercicios\n",
    "\n",
    "1. Resolver $\\frac{dy}{dx}+y=f(x)\\text{ donde } f(x)=\\begin{cases}1,\\text{ si }0\\leq x\\leq 1,\\\\0 \\text{ si } x>1.\\end{cases}$\n",
    "2. $\\frac{dy}{dx}+y=e^{3x}$\n",
    "3. $x\\frac{dy}{dx}-y=x^2\\sin(x)$\n",
    "4. $(1+x)\\frac{dy}{dx}+4y=x^3-x$\n",
    "5.  Marcapasos cardiaco Un marcapasos para el corazón\n",
    "consta de un interruptor, una batería de voltaje constante\n",
    "$E_0$, un capacitor con capacitancia constante C y el corazón como un resistor con resistencia constante R. Cuando\n",
    "el interruptor se cierra, el capacitor carga; cuando el interruptor se abre, el capacitor descarga, enviando un estímulo eléctrico al corazón. Durante el tiempo en que el corazón está siendo estimulado, el voltaje E que pasa por\n",
    "el corazón satisface la ecuación diferencial lineal\n",
    "\n",
    "$$\\frac{dE}{dt}=-\\frac{1}{RC}E.$$\n",
    "\n",
    "Resuelva la ecuación sujeta a $E(4)=E_0$\n",
    "\n",
    "\n",
    "6. Series de decaimiento radiactivo El siguiente sistema\n",
    "de ecuaciones diferenciales se encuentra en el estudio\n",
    "del decaimiento de un tipo especial de series de elementos radiactivos:\n",
    "\n",
    "$$ \\frac{dx}{dt}=-\\lambda_1x$$\n",
    "\n",
    "$$ \\frac{dy}{dt}=\\lambda_1x-\\lambda_2y$$\n",
    "\n",
    "donde $\\lambda_1$ y $\\lambda_2$ son constantes. Analice cómo resolver\n",
    "este sistema sujeto a $x(0) = x_0$, $y(0) = y_0$. Ponga en práctica sus ideas."
   ]
  },
  {
   "cell_type": "markdown",
   "id": "20962a97",
   "metadata": {},
   "source": []
  }
 ],
 "metadata": {
  "hide_input": false,
  "kernelspec": {
   "display_name": "Python 3 (ipykernel)",
   "language": "python",
   "name": "python3"
  },
  "language_info": {
   "codemirror_mode": {
    "name": "ipython",
    "version": 3
   },
   "file_extension": ".py",
   "mimetype": "text/x-python",
   "name": "python",
   "nbconvert_exporter": "python",
   "pygments_lexer": "ipython3",
   "version": "3.9.7"
  },
  "latex_envs": {
   "LaTeX_envs_menu_present": true,
   "autoclose": false,
   "autocomplete": true,
   "bibliofile": "biblio.bib",
   "cite_by": "apalike",
   "current_citInitial": 1,
   "eqLabelWithNumbers": true,
   "eqNumInitial": 1,
   "hotkeys": {
    "equation": "Ctrl-E",
    "itemize": "Ctrl-I"
   },
   "labels_anchors": false,
   "latex_user_defs": false,
   "report_style_numbering": false,
   "user_envs_cfg": false
  },
  "varInspector": {
   "cols": {
    "lenName": 16,
    "lenType": 16,
    "lenVar": 40
   },
   "kernels_config": {
    "python": {
     "delete_cmd_postfix": "",
     "delete_cmd_prefix": "del ",
     "library": "var_list.py",
     "varRefreshCmd": "print(var_dic_list())"
    },
    "r": {
     "delete_cmd_postfix": ") ",
     "delete_cmd_prefix": "rm(",
     "library": "var_list.r",
     "varRefreshCmd": "cat(var_dic_list()) "
    }
   },
   "types_to_exclude": [
    "module",
    "function",
    "builtin_function_or_method",
    "instance",
    "_Feature"
   ],
   "window_display": false
  }
 },
 "nbformat": 4,
 "nbformat_minor": 5
}
